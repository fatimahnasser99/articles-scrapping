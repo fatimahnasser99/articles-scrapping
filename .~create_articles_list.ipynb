{
 "cells": [
  {
   "cell_type": "code",
   "execution_count": 1,
   "id": "c1545449",
   "metadata": {},
   "outputs": [],
   "source": [
    "import scrapping\n",
    "import extractData\n",
    "import utils\n",
    "import pandas as pd\n",
    "from dotenv import dotenv_values"
   ]
  },
  {
   "cell_type": "code",
   "execution_count": 2,
   "id": "2ad1ab40",
   "metadata": {},
   "outputs": [],
   "source": [
    "config = dotenv_values(\".env\")\n",
    "url = config['url']"
   ]
  },
  {
   "cell_type": "code",
   "execution_count": 3,
   "id": "136fc37e",
   "metadata": {},
   "outputs": [],
   "source": [
    "topics = extractData.get_topics(url)"
   ]
  },
  {
   "cell_type": "code",
   "execution_count": 4,
   "id": "662cdc70",
   "metadata": {},
   "outputs": [
    {
     "name": "stdout",
     "output_type": "stream",
     "text": [
      "Creativity\n",
      "Decision Making\n",
      "Focus\n",
      "Habits\n",
      "Life Lessons\n",
      "Motivation\n",
      "Productivity\n",
      "Self-Improvement\n"
     ]
    }
   ],
   "source": [
    "for topic in topics:\n",
    "    print(topic['name'])"
   ]
  },
  {
   "cell_type": "code",
   "execution_count": 5,
   "id": "088bfa97",
   "metadata": {},
   "outputs": [],
   "source": [
    "articles_list = extractData.get_articles_list(topics)"
   ]
  },
  {
   "cell_type": "code",
   "execution_count": 6,
   "id": "8b1205c7",
   "metadata": {},
   "outputs": [
    {
     "name": "stdout",
     "output_type": "stream",
     "text": [
      "nbr of articles found: 320\n"
     ]
    }
   ],
   "source": [
    "print(\"nbr of articles found:\", len(articles_list))"
   ]
  },
  {
   "cell_type": "code",
   "execution_count": 7,
   "id": "745fbca1",
   "metadata": {},
   "outputs": [],
   "source": [
    "utils.save_csv(articles_list, 'articles_list.csv')"
   ]
  },
  {
   "cell_type": "code",
   "execution_count": 8,
   "id": "2c6a91aa",
   "metadata": {},
   "outputs": [
    {
     "data": {
      "text/html": [
       "<div>\n",
       "<style scoped>\n",
       "    .dataframe tbody tr th:only-of-type {\n",
       "        vertical-align: middle;\n",
       "    }\n",
       "\n",
       "    .dataframe tbody tr th {\n",
       "        vertical-align: top;\n",
       "    }\n",
       "\n",
       "    .dataframe thead th {\n",
       "        text-align: right;\n",
       "    }\n",
       "</style>\n",
       "<table border=\"1\" class=\"dataframe\">\n",
       "  <thead>\n",
       "    <tr style=\"text-align: right;\">\n",
       "      <th></th>\n",
       "      <th>name</th>\n",
       "      <th>url</th>\n",
       "      <th>topic</th>\n",
       "    </tr>\n",
       "  </thead>\n",
       "  <tbody>\n",
       "    <tr>\n",
       "      <th>82</th>\n",
       "      <td>The Proven, Reasonable and Totally Unsexy Secr...</td>\n",
       "      <td>https://jamesclear.com/habit-creep</td>\n",
       "      <td>Habits</td>\n",
       "    </tr>\n",
       "    <tr>\n",
       "      <th>280</th>\n",
       "      <td>Measure Backward, Not Forward</td>\n",
       "      <td>https://jamesclear.com/measure-backward</td>\n",
       "      <td>Self-Improvement</td>\n",
       "    </tr>\n",
       "    <tr>\n",
       "      <th>193</th>\n",
       "      <td>Joseph Brodsky Explains Perfectly How to Deal ...</td>\n",
       "      <td>https://jamesclear.com/joseph-brodsky</td>\n",
       "      <td>Motivation</td>\n",
       "    </tr>\n",
       "    <tr>\n",
       "      <th>233</th>\n",
       "      <td>How to Stick With Good Habits Every Day by Usi...</td>\n",
       "      <td>https://jamesclear.com/paper-clips</td>\n",
       "      <td>Productivity</td>\n",
       "    </tr>\n",
       "    <tr>\n",
       "      <th>243</th>\n",
       "      <td>How to Eliminate Procrastination (The Surprisi...</td>\n",
       "      <td>https://jamesclear.com/constraints</td>\n",
       "      <td>Productivity</td>\n",
       "    </tr>\n",
       "    <tr>\n",
       "      <th>88</th>\n",
       "      <td>Use This Simple Daily Habit to Add More Gratit...</td>\n",
       "      <td>https://jamesclear.com/gratitude-habit</td>\n",
       "      <td>Habits</td>\n",
       "    </tr>\n",
       "    <tr>\n",
       "      <th>148</th>\n",
       "      <td>The Downside of Work-Life Balance</td>\n",
       "      <td>https://jamesclear.com/four-burners-theory</td>\n",
       "      <td>Life Lessons</td>\n",
       "    </tr>\n",
       "    <tr>\n",
       "      <th>76</th>\n",
       "      <td>How to Create a Chain Reaction of Good Habits</td>\n",
       "      <td>https://jamesclear.com/domino-effect</td>\n",
       "      <td>Habits</td>\n",
       "    </tr>\n",
       "  </tbody>\n",
       "</table>\n",
       "</div>"
      ],
      "text/plain": [
       "                                                  name  \\\n",
       "82   The Proven, Reasonable and Totally Unsexy Secr...   \n",
       "280                      Measure Backward, Not Forward   \n",
       "193  Joseph Brodsky Explains Perfectly How to Deal ...   \n",
       "233  How to Stick With Good Habits Every Day by Usi...   \n",
       "243  How to Eliminate Procrastination (The Surprisi...   \n",
       "88   Use This Simple Daily Habit to Add More Gratit...   \n",
       "148                  The Downside of Work-Life Balance   \n",
       "76       How to Create a Chain Reaction of Good Habits   \n",
       "\n",
       "                                            url             topic  \n",
       "82           https://jamesclear.com/habit-creep            Habits  \n",
       "280     https://jamesclear.com/measure-backward  Self-Improvement  \n",
       "193       https://jamesclear.com/joseph-brodsky        Motivation  \n",
       "233          https://jamesclear.com/paper-clips      Productivity  \n",
       "243          https://jamesclear.com/constraints      Productivity  \n",
       "88       https://jamesclear.com/gratitude-habit            Habits  \n",
       "148  https://jamesclear.com/four-burners-theory      Life Lessons  \n",
       "76         https://jamesclear.com/domino-effect            Habits  "
      ]
     },
     "execution_count": 8,
     "metadata": {},
     "output_type": "execute_result"
    }
   ],
   "source": [
    "articles_list_frame = pd.read_csv('articles_list.csv')\n",
    "articles_list_frame.sample(n=8)"
   ]
  },
  {
   "cell_type": "code",
   "execution_count": null,
   "id": "0b849da3",
   "metadata": {},
   "outputs": [],
   "source": [
    "articles = extractData.get_articles(articles_list_frame)"
   ]
  },
  {
   "cell_type": "code",
   "execution_count": null,
   "id": "a92e2b75",
   "metadata": {},
   "outputs": [],
   "source": [
    "utils.save_csv(articles, 'articles_data.csv')"
   ]
  },
  {
   "cell_type": "code",
   "execution_count": null,
   "id": "74660c72",
   "metadata": {},
   "outputs": [],
   "source": [
    "articles_frame = pd.read_csv('articles_data.csv')\n",
    "articles_frame.sample(n=8)"
   ]
  }
 ],
 "metadata": {
  "kernelspec": {
   "display_name": "Python 3 (ipykernel)",
   "language": "python",
   "name": "python3"
  },
  "language_info": {
   "codemirror_mode": {
    "name": "ipython",
    "version": 3
   },
   "file_extension": ".py",
   "mimetype": "text/x-python",
   "name": "python",
   "nbconvert_exporter": "python",
   "pygments_lexer": "ipython3",
   "version": "3.11.3"
  }
 },
 "nbformat": 4,
 "nbformat_minor": 5
}
