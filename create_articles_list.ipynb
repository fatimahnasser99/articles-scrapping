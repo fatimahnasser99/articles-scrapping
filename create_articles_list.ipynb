{
 "cells": [
  {
   "cell_type": "code",
   "execution_count": 1,
   "id": "c1545449",
   "metadata": {},
   "outputs": [],
   "source": [
    "import scrapping\n",
    "import extractData\n",
    "import utils\n",
    "import pandas as pd\n",
    "from dotenv import dotenv_values"
   ]
  },
  {
   "cell_type": "code",
   "execution_count": 2,
   "id": "2ad1ab40",
   "metadata": {},
   "outputs": [],
   "source": [
    "config = dotenv_values(\".env\")\n",
    "url = config['url']"
   ]
  },
  {
   "cell_type": "code",
   "execution_count": 3,
   "id": "136fc37e",
   "metadata": {},
   "outputs": [],
   "source": [
    "topics = extractData.get_topics(url)"
   ]
  },
  {
   "cell_type": "code",
   "execution_count": 4,
   "id": "662cdc70",
   "metadata": {},
   "outputs": [
    {
     "name": "stdout",
     "output_type": "stream",
     "text": [
      "Creativity\n",
      "Decision Making\n",
      "Focus\n",
      "Habits\n",
      "Life Lessons\n",
      "Motivation\n",
      "Productivity\n",
      "Self-Improvement\n"
     ]
    }
   ],
   "source": [
    "for topic in topics:\n",
    "    print(topic['name'])"
   ]
  },
  {
   "cell_type": "code",
   "execution_count": null,
   "id": "088bfa97",
   "metadata": {},
   "outputs": [],
   "source": [
    "articles = extractData.get_articles(topics)"
   ]
  },
  {
   "cell_type": "code",
   "execution_count": null,
   "id": "8b1205c7",
   "metadata": {},
   "outputs": [],
   "source": [
    "print(\"nbr of articles found:\", len(articles))"
   ]
  },
  {
   "cell_type": "code",
   "execution_count": null,
   "id": "745fbca1",
   "metadata": {},
   "outputs": [],
   "source": [
    "utils.save_csv(articles, 'articles_list.csv')"
   ]
  },
  {
   "cell_type": "code",
   "execution_count": 9,
   "id": "2c6a91aa",
   "metadata": {},
   "outputs": [
    {
     "data": {
      "text/html": [
       "<div>\n",
       "<style scoped>\n",
       "    .dataframe tbody tr th:only-of-type {\n",
       "        vertical-align: middle;\n",
       "    }\n",
       "\n",
       "    .dataframe tbody tr th {\n",
       "        vertical-align: top;\n",
       "    }\n",
       "\n",
       "    .dataframe thead th {\n",
       "        text-align: right;\n",
       "    }\n",
       "</style>\n",
       "<table border=\"1\" class=\"dataframe\">\n",
       "  <thead>\n",
       "    <tr style=\"text-align: right;\">\n",
       "      <th></th>\n",
       "      <th>name</th>\n",
       "      <th>url</th>\n",
       "      <th>topic</th>\n",
       "    </tr>\n",
       "  </thead>\n",
       "  <tbody>\n",
       "    <tr>\n",
       "      <th>258</th>\n",
       "      <td>How to Use Military Strategy to Build Better H...</td>\n",
       "      <td>https://jamesclear.com/sun-tzu-habits</td>\n",
       "      <td>Self-Improvement</td>\n",
       "    </tr>\n",
       "    <tr>\n",
       "      <th>269</th>\n",
       "      <td>You’re Not Ready for Marriage</td>\n",
       "      <td>https://jamesclear.com/marriage-ready</td>\n",
       "      <td>Self-Improvement</td>\n",
       "    </tr>\n",
       "    <tr>\n",
       "      <th>101</th>\n",
       "      <td>How to Build a New Habit: This is Your Strateg...</td>\n",
       "      <td>https://jamesclear.com/habit-guide</td>\n",
       "      <td>Habits</td>\n",
       "    </tr>\n",
       "    <tr>\n",
       "      <th>57</th>\n",
       "      <td>How to Stop Procrastinating by Using the “2-Mi...</td>\n",
       "      <td>https://jamesclear.com/how-to-stop-procrastina...</td>\n",
       "      <td>Decision Making</td>\n",
       "    </tr>\n",
       "    <tr>\n",
       "      <th>173</th>\n",
       "      <td>I Watched an Artist Create Stained Glass And L...</td>\n",
       "      <td>https://jamesclear.com/inside-cuts</td>\n",
       "      <td>Life Lessons</td>\n",
       "    </tr>\n",
       "    <tr>\n",
       "      <th>158</th>\n",
       "      <td>How Experts Figure What to Focus On</td>\n",
       "      <td>https://jamesclear.com/getting-simple</td>\n",
       "      <td>Life Lessons</td>\n",
       "    </tr>\n",
       "    <tr>\n",
       "      <th>88</th>\n",
       "      <td>Use This Simple Daily Habit to Add More Gratit...</td>\n",
       "      <td>https://jamesclear.com/gratitude-habit</td>\n",
       "      <td>Habits</td>\n",
       "    </tr>\n",
       "    <tr>\n",
       "      <th>291</th>\n",
       "      <td>This Research Study Changed the Way We Think A...</td>\n",
       "      <td>https://jamesclear.com/growth-mindset</td>\n",
       "      <td>Self-Improvement</td>\n",
       "    </tr>\n",
       "  </tbody>\n",
       "</table>\n",
       "</div>"
      ],
      "text/plain": [
       "                                                  name  \\\n",
       "258  How to Use Military Strategy to Build Better H...   \n",
       "269                      You’re Not Ready for Marriage   \n",
       "101  How to Build a New Habit: This is Your Strateg...   \n",
       "57   How to Stop Procrastinating by Using the “2-Mi...   \n",
       "173  I Watched an Artist Create Stained Glass And L...   \n",
       "158                How Experts Figure What to Focus On   \n",
       "88   Use This Simple Daily Habit to Add More Gratit...   \n",
       "291  This Research Study Changed the Way We Think A...   \n",
       "\n",
       "                                                   url             topic  \n",
       "258              https://jamesclear.com/sun-tzu-habits  Self-Improvement  \n",
       "269              https://jamesclear.com/marriage-ready  Self-Improvement  \n",
       "101                 https://jamesclear.com/habit-guide            Habits  \n",
       "57   https://jamesclear.com/how-to-stop-procrastina...   Decision Making  \n",
       "173                 https://jamesclear.com/inside-cuts      Life Lessons  \n",
       "158              https://jamesclear.com/getting-simple      Life Lessons  \n",
       "88              https://jamesclear.com/gratitude-habit            Habits  \n",
       "291              https://jamesclear.com/growth-mindset  Self-Improvement  "
      ]
     },
     "execution_count": 9,
     "metadata": {},
     "output_type": "execute_result"
    }
   ],
   "source": [
    "articles_frame = pd.read_csv('articles_list.csv')\n",
    "articles_frame.sample(n=8)"
   ]
  }
 ],
 "metadata": {
  "kernelspec": {
   "display_name": "Python 3 (ipykernel)",
   "language": "python",
   "name": "python3"
  },
  "language_info": {
   "codemirror_mode": {
    "name": "ipython",
    "version": 3
   },
   "file_extension": ".py",
   "mimetype": "text/x-python",
   "name": "python",
   "nbconvert_exporter": "python",
   "pygments_lexer": "ipython3",
   "version": "3.11.3"
  }
 },
 "nbformat": 4,
 "nbformat_minor": 5
}
